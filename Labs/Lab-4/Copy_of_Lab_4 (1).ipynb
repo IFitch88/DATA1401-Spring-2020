{
  "nbformat": 4,
  "nbformat_minor": 0,
  "metadata": {
    "kernelspec": {
      "display_name": "Python 3",
      "language": "python",
      "name": "python3"
    },
    "language_info": {
      "codemirror_mode": {
        "name": "ipython",
        "version": 3
      },
      "file_extension": ".py",
      "mimetype": "text/x-python",
      "name": "python",
      "nbconvert_exporter": "python",
      "pygments_lexer": "ipython3",
      "version": "3.8.0"
    },
    "colab": {
      "name": "Copy of Lab-4.ipynb",
      "provenance": [],
      "collapsed_sections": []
    }
  },
  "cells": [
    {
      "cell_type": "markdown",
      "metadata": {
        "id": "sSD6iapaIUYq",
        "colab_type": "text"
      },
      "source": [
        "## Lab 4\n",
        "\n",
        "[![Open In Colab](https://colab.research.google.com/assets/colab-badge.svg)](https://colab.research.google.com/github//afarbin/DATA1401-Spring-2020/blob/master/Labs/Lab-4/Lab-4.ipynb)\n",
        "\n",
        "In this lab we will become familiar with distributions, histograms, and functional programming. \n",
        "\n",
        "\n",
        "### Uniform Distribution\n",
        "Lets start with generating some fake random data. You can get a random number between 0 and 1 using the python random module as follow:"
      ]
    },
    {
      "cell_type": "code",
      "metadata": {
        "id": "XXp9DLzHIUYv",
        "colab_type": "code",
        "outputId": "074f4868-9e74-4b8d-9879-bdfc055d91f8",
        "colab": {
          "base_uri": "https://localhost:8080/",
          "height": 34
        }
      },
      "source": [
        "import random\n",
        "x=random.random()\n",
        "print(\"The Value of x is\", x)"
      ],
      "execution_count": 0,
      "outputs": [
        {
          "output_type": "stream",
          "text": [
            "The Value of x is 0.9626092426933416\n"
          ],
          "name": "stdout"
        }
      ]
    },
    {
      "cell_type": "markdown",
      "metadata": {
        "id": "DXCnAkRdIUY5",
        "colab_type": "text"
      },
      "source": [
        "Everytime you call random, you will get a new number.\n",
        "\n",
        "*Exercise 1:* Using random, write a function `generate_uniform(N, mymin, mymax)`, that returns a python list containing N random numbers between specified minimum and maximum value. Note that you may want to quickly work out on paper how to turn numbers between 0 and 1 to between other values. "
      ]
    },
    {
      "cell_type": "code",
      "metadata": {
        "id": "pksVgQIUIUY6",
        "colab_type": "code",
        "colab": {}
      },
      "source": [
        "# Skeleton\n",
        "def generate_uniform(N,x_min,x_max):\n",
        "    out = []\n",
        "    ### BEGIN SOLUTION\n",
        "    for i in range(N):\n",
        "          x=random.random()\n",
        "          value = x_min + ( x * (x_max - x_min)) \n",
        "          out.append(value)\n",
        "    # Fill in your solution here        \n",
        "    \n",
        "    ### END SOLUTION\n",
        "    return out"
      ],
      "execution_count": 0,
      "outputs": []
    },
    {
      "cell_type": "code",
      "metadata": {
        "id": "K_cTy9D0IUZA",
        "colab_type": "code",
        "outputId": "b014855a-5bb0-4d94-c78b-659e13838249",
        "colab": {
          "base_uri": "https://localhost:8080/",
          "height": 102
        }
      },
      "source": [
        "# Test your solution here\n",
        "data=generate_uniform(1000,-10,10)\n",
        "print (\"Data Type:\", type(data))\n",
        "print (\"Data Length:\", len(data))\n",
        "if len(data)>0: \n",
        "    print (\"Type of Data Contents:\", type(data[0]))\n",
        "    print (\"Data Minimum:\", min(data))\n",
        "    print (\"Data Maximum:\", max(data))"
      ],
      "execution_count": 0,
      "outputs": [
        {
          "output_type": "stream",
          "text": [
            "Data Type: <class 'list'>\n",
            "Data Length: 1000\n",
            "Type of Data Contents: <class 'float'>\n",
            "Data Minimum: -9.992498299798916\n",
            "Data Maximum: 9.956016414377007\n"
          ],
          "name": "stdout"
        }
      ]
    },
    {
      "cell_type": "markdown",
      "metadata": {
        "id": "DC9p1X9jIUZF",
        "colab_type": "text"
      },
      "source": [
        "*Exercise 2a:* \n",
        "Write a function that computes the mean of values in a list."
      ]
    },
    {
      "cell_type": "code",
      "metadata": {
        "id": "ksDtEeLNIUZG",
        "colab_type": "code",
        "colab": {}
      },
      "source": [
        "# Skeleton\n",
        "def mean(Data):\n",
        "    m=0.\n",
        "    \n",
        "    ### BEGIN SOLUTION\n",
        "    return sum(Data) / len(Data)\n",
        "    # Fill in your solution here        \n",
        "    \n",
        "    ### END SOLUTION\n",
        "    \n",
        "    return m"
      ],
      "execution_count": 0,
      "outputs": []
    },
    {
      "cell_type": "code",
      "metadata": {
        "id": "i0vbIpYRIUZL",
        "colab_type": "code",
        "outputId": "880b86e6-2ab3-4b57-803a-dfae4f3c6254",
        "colab": {
          "base_uri": "https://localhost:8080/",
          "height": 34
        }
      },
      "source": [
        "# Test your solution here\n",
        "print (\"Mean of Data:\", mean(data))"
      ],
      "execution_count": 0,
      "outputs": [
        {
          "output_type": "stream",
          "text": [
            "Mean of Data: -0.15175917756367235\n"
          ],
          "name": "stdout"
        }
      ]
    },
    {
      "cell_type": "markdown",
      "metadata": {
        "id": "NdG_qg5xIUZV",
        "colab_type": "text"
      },
      "source": [
        "*Exercise 2b:* \n",
        "Write a function that computes the variance of values in a list."
      ]
    },
    {
      "cell_type": "code",
      "metadata": {
        "id": "4E8jRGuKIUZX",
        "colab_type": "code",
        "colab": {}
      },
      "source": [
        "# Skeleton\n",
        "def variance(Data):\n",
        "    m=0.\n",
        "    \n",
        "    ### BEGIN SOLUTION\n",
        "    Variance = sum([(Data[i] - mean(Data))**2 for i in range (len(Data))])\n",
        "    m = Variance / (len(Data) - 1)\n",
        "    # Fill in your solution here        \n",
        "    \n",
        "    ### END SOLUTION\n",
        "    \n",
        "    return m"
      ],
      "execution_count": 0,
      "outputs": []
    },
    {
      "cell_type": "code",
      "metadata": {
        "id": "Ssv23b6GIUZc",
        "colab_type": "code",
        "outputId": "009e6e79-131e-4061-beb7-84e2702e4f82",
        "colab": {
          "base_uri": "https://localhost:8080/",
          "height": 34
        }
      },
      "source": [
        "# Test your solution here\n",
        "print (\"Variance of Data:\", variance(data))"
      ],
      "execution_count": 0,
      "outputs": [
        {
          "output_type": "stream",
          "text": [
            "Variance of Data: 33.09521435337457\n"
          ],
          "name": "stdout"
        }
      ]
    },
    {
      "cell_type": "markdown",
      "metadata": {
        "id": "EHZ3Hk8NIUZm",
        "colab_type": "text"
      },
      "source": [
        "## Histogramming"
      ]
    },
    {
      "cell_type": "markdown",
      "metadata": {
        "id": "UYOngQKhIUZn",
        "colab_type": "text"
      },
      "source": [
        "*Exercise 3:* Write a function that bins the data so that you can create a histogram. An example of how to implement histogramming is the following logic:\n",
        "\n",
        "* User inputs a list of values `x` and optionally `n_bins` which defaults to 10.\n",
        "* If not supplied, find the minimum and maximum (`x_min`,`x_max`) of the values in x.\n",
        "* Determine the bin size (`bin_size`) by dividing the range of the function by the number of bins.\n",
        "* Create an empty list of zeros of size `n_bins`, call it `hist`.\n",
        "* Loop over the values in `x`\n",
        "    * Loop over the values in `hist` with index `i`:\n",
        "        * If x is between `x_min+i*bin_size` and `x_min+(i+1)*bin_size`, increment `hist[i].` \n",
        "        * For efficiency, try to use continue to goto the next bin and data point.\n",
        "* Return `hist` and the list corresponding of the bin edges (i.e. of `x_min+i*bin_size`).    "
      ]
    },
    {
      "cell_type": "code",
      "metadata": {
        "id": "PgAg3JhKIUZp",
        "colab_type": "code",
        "colab": {}
      },
      "source": [
        "# Solution\n",
        "def histogram(x,n_bins=10,x_min=None,x_max=None):\n",
        "    ### BEGIN SOLUTION\n",
        "\n",
        "    n_bins = 10\n",
        "    x_min = min(data)\n",
        "    x_max = max(data)\n",
        "    bin_size = ((range(x) / n_bins)) \n",
        "    hist = [0,0,0,0,0,0,0,0,0,0]\n",
        "    bin_edges = []\n",
        "    for i in range(x):\n",
        "      for j in range(hist):\n",
        "        if (x >= ((x_min + i)*bin_size) and x <= ((x_min + (i+1))*bin_size), hist[i]):\n",
        "          bin_edges.append(x)\n",
        "\n",
        "\n",
        "        \n",
        "\n",
        "\n",
        "    # Fill in your solution here        \n",
        "    \n",
        "    ### END SOLUTION\n",
        "\n",
        "    return hist,bin_edges"
      ],
      "execution_count": 0,
      "outputs": []
    },
    {
      "cell_type": "code",
      "metadata": {
        "id": "-Y5GEAGAIUZx",
        "colab_type": "code",
        "colab": {
          "base_uri": "https://localhost:8080/",
          "height": 180
        },
        "outputId": "60c2a8c1-59c2-47f7-d6a2-a459385891a2"
      },
      "source": [
        "# Test your solution here\n",
        "h,b=histogram(data,100)\n",
        "print(h)"
      ],
      "execution_count": 14,
      "outputs": [
        {
          "output_type": "error",
          "ename": "NameError",
          "evalue": "ignored",
          "traceback": [
            "\u001b[0;31m---------------------------------------------------------------------------\u001b[0m",
            "\u001b[0;31mNameError\u001b[0m                                 Traceback (most recent call last)",
            "\u001b[0;32m<ipython-input-14-497b021fbce7>\u001b[0m in \u001b[0;36m<module>\u001b[0;34m()\u001b[0m\n\u001b[0;32m----> 1\u001b[0;31m \u001b[0mh\u001b[0m\u001b[0;34m,\u001b[0m\u001b[0mb\u001b[0m\u001b[0;34m=\u001b[0m\u001b[0mhistogram\u001b[0m\u001b[0;34m(\u001b[0m\u001b[0mdata\u001b[0m\u001b[0;34m,\u001b[0m\u001b[0;36m100\u001b[0m\u001b[0;34m)\u001b[0m\u001b[0;34m\u001b[0m\u001b[0;34m\u001b[0m\u001b[0m\n\u001b[0m\u001b[1;32m      2\u001b[0m \u001b[0mprint\u001b[0m\u001b[0;34m(\u001b[0m\u001b[0mh\u001b[0m\u001b[0;34m)\u001b[0m\u001b[0;34m\u001b[0m\u001b[0;34m\u001b[0m\u001b[0m\n",
            "\u001b[0;31mNameError\u001b[0m: name 'data' is not defined"
          ]
        }
      ]
    },
    {
      "cell_type": "markdown",
      "metadata": {
        "id": "A7zsq-fhIUZ2",
        "colab_type": "text"
      },
      "source": [
        "*Exercise 4:* Write a function that uses the histogram function in the previous exercise to create a text-based \"graph\". For example the output could look like the following:\n",
        "```\n",
        "[  0,  1] : ######\n",
        "[  1,  2] : #####\n",
        "[  2,  3] : ######\n",
        "[  3,  4] : ####\n",
        "[  4,  5] : ####\n",
        "[  5,  6] : ######\n",
        "[  6,  7] : #####\n",
        "[  7,  8] : ######\n",
        "[  8,  9] : ####\n",
        "[  9, 10] : #####\n",
        "```\n",
        "\n",
        "Where each line corresponds to a bin and the number of `#`'s are proportional to the value of the data in the bin. "
      ]
    },
    {
      "cell_type": "code",
      "metadata": {
        "id": "-2bwm0nLIUZ3",
        "colab_type": "code",
        "colab": {}
      },
      "source": [
        "# Solution\n",
        "def draw_histogram(x,n_bins,x_min=None,x_max=None,character=\"#\",max_character_per_line=20):\n",
        "    ### BEGIN SOLUTION\n",
        "\n",
        "    # Fill in your solution here        \n",
        "    \n",
        "    ### END SOLUTION\n",
        "\n",
        "    return hist,bin_edges"
      ],
      "execution_count": 0,
      "outputs": []
    },
    {
      "cell_type": "code",
      "metadata": {
        "id": "ZcBV4NEsIUZ6",
        "colab_type": "code",
        "colab": {}
      },
      "source": [
        "# Test your solution here\n",
        "h,b=histogram(data,20)"
      ],
      "execution_count": 0,
      "outputs": []
    },
    {
      "cell_type": "markdown",
      "metadata": {
        "id": "qgJWDpRVIUZ-",
        "colab_type": "text"
      },
      "source": [
        "## Functional Programming\n",
        "\n",
        "*Exercise 5:* Write a function the applies a booling function (that returns true/false) to every element in data, and return a list of indices of elements where the result was true. Use this function to find the indices of entries greater than 0.5. "
      ]
    },
    {
      "cell_type": "code",
      "metadata": {
        "id": "7s-qt455IUaB",
        "colab_type": "code",
        "colab": {}
      },
      "source": [
        "def where(mylist,myfunc):\n",
        "    out= []\n",
        "    \n",
        "    ### BEGIN SOLUTION\n",
        "\n",
        "    # Fill in your solution here        \n",
        "    \n",
        "    ### END SOLUTION\n",
        "    \n",
        "    return out"
      ],
      "execution_count": 0,
      "outputs": []
    },
    {
      "cell_type": "code",
      "metadata": {
        "id": "7XS8mWnDIUaG",
        "colab_type": "code",
        "colab": {}
      },
      "source": [
        "# Test your solution here"
      ],
      "execution_count": 0,
      "outputs": []
    },
    {
      "cell_type": "markdown",
      "metadata": {
        "id": "DyvOhe2HIUaL",
        "colab_type": "text"
      },
      "source": [
        "*Exercise 6:* The inrange(mymin,mymax) function below returns a function that tests if it's input is between the specified values. Write corresponding functions that test:\n",
        "* Even\n",
        "* Odd\n",
        "* Greater than\n",
        "* Less than\n",
        "* Equal\n",
        "* Divisible by"
      ]
    },
    {
      "cell_type": "code",
      "metadata": {
        "id": "OJzH_FY4IUaN",
        "colab_type": "code",
        "colab": {}
      },
      "source": [
        "def in_range(mymin,mymax):\n",
        "    def testrange(x):\n",
        "        return x<mymax and x>=mymin\n",
        "    return testrange\n",
        "\n",
        "# Examples:\n",
        "F1=inrange(0,10)\n",
        "F2=inrange(10,20)\n",
        "\n",
        "# Test of in_range\n",
        "print (F1(0), F1(1), F1(10), F1(15), F1(20))\n",
        "print (F2(0), F2(1), F2(10), F2(15), F2(20))\n",
        "\n",
        "print (\"Number of Entries passing F1:\", len(where(data,F1)))\n",
        "print (\"Number of Entries passing F2:\", len(where(data,F2)))"
      ],
      "execution_count": 0,
      "outputs": []
    },
    {
      "cell_type": "code",
      "metadata": {
        "id": "urJ6p-QVIUaT",
        "colab_type": "code",
        "colab": {}
      },
      "source": [
        "### BEGIN SOLUTION\n",
        "\n",
        "    # Fill in your solution here        \n",
        "    \n",
        "### END SOLUTION"
      ],
      "execution_count": 0,
      "outputs": []
    },
    {
      "cell_type": "code",
      "metadata": {
        "id": "_m-aOOBPIUaY",
        "colab_type": "code",
        "colab": {}
      },
      "source": [
        "# Test your solution"
      ],
      "execution_count": 0,
      "outputs": []
    },
    {
      "cell_type": "markdown",
      "metadata": {
        "id": "g0vFW7DLIUac",
        "colab_type": "text"
      },
      "source": [
        "*Exercise 7:* Repeat the previous exercise using `lambda` and the built-in python functions sum and map instead of your solution above. "
      ]
    },
    {
      "cell_type": "code",
      "metadata": {
        "id": "NuaVBECxIUad",
        "colab_type": "code",
        "colab": {}
      },
      "source": [
        "### BEGIN SOLUTION\n",
        "\n",
        "    # Fill in your solution here        \n",
        "    \n",
        "### END SOLUTION"
      ],
      "execution_count": 0,
      "outputs": []
    },
    {
      "cell_type": "markdown",
      "metadata": {
        "id": "6jxKlMLnIUah",
        "colab_type": "text"
      },
      "source": [
        "## Monte Carlo\n",
        "\n",
        "*Exercise 7:* Write a \"generator\" function called `generate_function(func,x_min,x_max,N)`, that instead of generating a flat distribution, generates a distribution with functional form coded in `func`. Note that `func` will always be > 0.  \n",
        "\n",
        "Use the test function below and your histogramming functions above to demonstrate that your generator is working properly.\n",
        "\n",
        "Hint: A simple, but slow, solution is to a draw random number test_x within the specified range and another number p between the min and max of the function (which you will have to determine). If p<=function(test_x), then place test_x on the output. If not, repeat the process, drawing two new numbers. Repeat until you have the specified number of generated numbers, N. For this problem, it's OK to determine the min and max by numerically sampling the function.  "
      ]
    },
    {
      "cell_type": "code",
      "metadata": {
        "id": "4f5-6bsyIUaj",
        "colab_type": "code",
        "colab": {}
      },
      "source": [
        "def generate_function(func,x_min,x_max,N=1000):\n",
        "    out = list()\n",
        "    ### BEGIN SOLUTION\n",
        "\n",
        "    # Fill in your solution here        \n",
        "    \n",
        "    ### END SOLUTION\n",
        "    \n",
        "    return out"
      ],
      "execution_count": 0,
      "outputs": []
    },
    {
      "cell_type": "code",
      "metadata": {
        "id": "MBa8LV39IUan",
        "colab_type": "code",
        "colab": {}
      },
      "source": [
        "# A test function\n",
        "def test_func(x,a=1,b=1):\n",
        "    return abs(a*x+b)"
      ],
      "execution_count": 0,
      "outputs": []
    },
    {
      "cell_type": "markdown",
      "metadata": {
        "id": "9qHWipnVIUar",
        "colab_type": "text"
      },
      "source": [
        "*Exercise 8:* Use your function to generate 1000 numbers that are normal distributed, using the `gaussian` function below. Confirm the mean and variance of the data is close to the mean and variance you specify when building the Gaussian. Histogram the data. "
      ]
    },
    {
      "cell_type": "code",
      "metadata": {
        "id": "1Eg1sp1FIUas",
        "colab_type": "code",
        "colab": {}
      },
      "source": [
        "import math\n",
        "\n",
        "def gaussian(mean, sigma):\n",
        "    def f(x):\n",
        "        return math.exp(-((x-mean)**2)/(2*sigma**2))/math.sqrt(math.pi*sigma)\n",
        "    return f\n",
        "\n",
        "# Example Instantiation\n",
        "g1=gaussian(0,1)\n",
        "g2=gaussian(10,3)"
      ],
      "execution_count": 0,
      "outputs": []
    },
    {
      "cell_type": "markdown",
      "metadata": {
        "id": "CJdSA2nEIUav",
        "colab_type": "text"
      },
      "source": [
        "*Exercise 9:* Combine your `generate_function`, `where`, and `in_range` functions above to create an integrate function. Use your integrate function to show that approximately 68% of Normal distribution is within one variance."
      ]
    },
    {
      "cell_type": "code",
      "metadata": {
        "id": "f8w5p0udIUaw",
        "colab_type": "code",
        "colab": {}
      },
      "source": [
        "def integrate(func, x_min, x_max, n_points=1000):\n",
        "    \n",
        "    return integral"
      ],
      "execution_count": 0,
      "outputs": []
    },
    {
      "cell_type": "code",
      "metadata": {
        "id": "Ow8jIxFJIUa1",
        "colab_type": "code",
        "colab": {}
      },
      "source": [
        ""
      ],
      "execution_count": 0,
      "outputs": []
    }
  ]
}