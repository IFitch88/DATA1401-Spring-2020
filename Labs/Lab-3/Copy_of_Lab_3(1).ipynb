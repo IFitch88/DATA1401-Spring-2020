{
  "nbformat": 4,
  "nbformat_minor": 0,
  "metadata": {
    "kernelspec": {
      "display_name": "Python 2",
      "language": "python",
      "name": "python2"
    },
    "language_info": {
      "codemirror_mode": {
        "name": "ipython",
        "version": 2
      },
      "file_extension": ".py",
      "mimetype": "text/x-python",
      "name": "python",
      "nbconvert_exporter": "python",
      "pygments_lexer": "ipython2",
      "version": "2.7.10"
    },
    "colab": {
      "name": "Copy of Lab-3.ipynb",
      "provenance": [],
      "collapsed_sections": []
    }
  },
  "cells": [
    {
      "cell_type": "markdown",
      "metadata": {
        "id": "nBLCH10zTwyc",
        "colab_type": "text"
      },
      "source": [
        "# Lab 3- Tic Tac Toe\n",
        "\n",
        "[![Open In Colab](https://colab.research.google.com/assets/colab-badge.svg)](https://colab.research.google.com/github//afarbin/DATA1401-Spring-2020/blob/master/Labs/Lab-3/Lab-3.ipynb)\n",
        "\n",
        "In this lab your will build a n x n Tic Tac Toe game. As you do the exercises, make sure your solutions work for any size Tic Tac Toe game. "
      ]
    },
    {
      "cell_type": "markdown",
      "metadata": {
        "id": "ilxhE80JTwyn",
        "colab_type": "text"
      },
      "source": [
        "*Exercise 1:* Write a function that creates an n by n matrix (of list of lists) which will represent the state of a Tie Tac Toe game. Let 0, 1, and 2 represent empty, \"X\", or \"O\".\n"
      ]
    },
    {
      "cell_type": "code",
      "metadata": {
        "deletable": true,
        "editable": true,
        "id": "MfN7pJI-Twyu",
        "colab_type": "code",
        "colab": {
          "base_uri": "https://localhost:8080/",
          "height": 88
        },
        "outputId": "e22ed9bc-423e-4ed6-ea7f-d70d092d1ca8"
      },
      "source": [
        "# Write you solution here\n",
        "# Index assignment for the matrix representation of the game board\n",
        "O = 1\n",
        "X = 2\n",
        "empty = 0\n",
        "\n",
        "# Game board size\n",
        "def board_size(size):\n",
        "  board=list()\n",
        "  for i in range(size):\n",
        "      row=list()\n",
        "      for j in range(size):\n",
        "          row.append(empty)\n",
        "        \n",
        "      board.append(row)\n",
        "  return board\n",
        "size= int(input('What size is the Board '))\n",
        "display_board=board_size(size)\n",
        "for i in range(size):\n",
        "\n",
        "  print(display_board[i])\n",
        "\n",
        "\n",
        "\n"
      ],
      "execution_count": 20,
      "outputs": [
        {
          "output_type": "stream",
          "text": [
            "What size is the Board 3\n",
            "[0, 0, 0]\n",
            "[0, 0, 0]\n",
            "[0, 0, 0]\n"
          ],
          "name": "stdout"
        }
      ]
    },
    {
      "cell_type": "code",
      "metadata": {
        "deletable": true,
        "editable": true,
        "id": "PD5WFaDiTwzQ",
        "colab_type": "code",
        "colab": {}
      },
      "source": [
        "# Test your solution here"
      ],
      "execution_count": 0,
      "outputs": []
    },
    {
      "cell_type": "markdown",
      "metadata": {
        "deletable": true,
        "editable": true,
        "id": "TuwCUEsFTwzf",
        "colab_type": "text"
      },
      "source": [
        "*Exercise 2:* Write a function that takes a `n` by `n` matrix representing a tic-tac-toe game, and returns -1, 0, 1, or 2 indicating the game is incomplete, the game is a draw, player 1 has won, or player 2 has one, respectively. Here are some example inputs you can use to test your code:"
      ]
    },
    {
      "cell_type": "code",
      "metadata": {
        "deletable": true,
        "editable": true,
        "id": "ARalDxMaTwzk",
        "colab_type": "code",
        "colab": {}
      },
      "source": [
        "winner_is_2 = \n",
        "\t[[2, 2, 0],\n",
        "\t[2, 1, 0],\n",
        "\t[2, 1, 1]]\n",
        "\n",
        "winner_is_1 = \n",
        "\t[[1, 2, 0],\n",
        "\t[2, 1, 0],\n",
        "\t[2, 1, 1]]\n",
        "\n",
        "winner_is_also_1 = \n",
        "\t[[0, 1, 0],\n",
        "\t[2, 1, 0],\n",
        "\t[2, 1, 1]]\n",
        "\n",
        "no_winner = \n",
        "\t[[1, 2, 0],\n",
        "\t[2, 1, 0],\n",
        "\t[2, 1, 2]]\n",
        "\n",
        "also_no_winner = \n",
        "\t[[1, 2, 0],\n",
        "\t[2, 1, 0],\n",
        "\t[2, 1, 0]]"
      ],
      "execution_count": 0,
      "outputs": []
    },
    {
      "cell_type": "code",
      "metadata": {
        "deletable": true,
        "editable": true,
        "id": "YsXM2HWsTwzv",
        "colab_type": "code",
        "colab": {}
      },
      "source": [
        "# Write you solution here\n",
        "O = 1\n",
        "X = 2\n",
        "empty = 0\n",
        "\n",
        "game_still_going = True\n",
        "\n",
        "winner = None\n",
        "\n",
        "current_player = O\n",
        "\n",
        "def play_game():\n",
        "  if winner == O:\n",
        "    return 1\n",
        "  elif winner == X:\n",
        "    return 2\n",
        "    print(winner + \" won.\")\n",
        "  elif (0) not in board:\n",
        "    game_still_going = False\n",
        "    return True and 0\n",
        "    print(\" Tie. \")\n",
        "  else:\n",
        "    return -1\n",
        "# Game board size\n",
        "board=[[2, 2, 0],\n",
        "\t[2, 1, 0],\n",
        "\t[2, 1, 1]]\n",
        "#size= int(input('how big is the game board '))\n",
        "#board=list()\n",
        "#for i in range(size):\n",
        "    #row=list()\n",
        "    #for j in range(size):\n",
        "        #row.append(empty)\n",
        "        \n",
        "    #board.append(row)\n",
        "#for i in range(0,size):\n",
        "  #print (board[i])\n",
        "\n",
        "\n",
        "def check_if_game_over(board):\n",
        "  winner_test=check_for_winner(board)\n",
        "  if winner_test:\n",
        "    return winner_test\n",
        "\n",
        "\n",
        "def check_for_tie(board):\n",
        "  global game_still_going\n",
        "  if 0 not in board:\n",
        "    game_still_going = False\n",
        "    return True\n",
        "  else:\n",
        "    return False\n",
        "\n",
        "def check_for_winner(board):\n",
        "  row_winner = check_rows(board)\n",
        "  column_winner = check_columns(board)\n",
        "  diagonal_winner = check_diagonals(board)\n",
        "  # Get the winner\n",
        "  if row_winner:\n",
        "    winner = row_winner\n",
        "  elif column_winner:\n",
        "    winner = column_winner\n",
        "  elif diagonal_winner:\n",
        "    winner = diagonal_winner\n",
        "  else:\n",
        "    winner = None\n",
        "  return winner\n",
        "\n",
        "def check_rows(board):\n",
        "  for x in range(0,size):\n",
        "    row = set([board[x][i],board[x][i+1],board[x][i+2]])\n",
        "    if len(row) == 1 or len(row) == 2 and board[x][i] != 0:\n",
        "      return board[x][i]  \n",
        "\n",
        "def check_columns(board):\n",
        "  for x in range(0,size):\n",
        "    column = set([board[i][x],board[i+1][x],board[i+2][x]])\n",
        "    if len(column) == 1 or len(column) == 2 and board[i][x] != 0:\n",
        "      return board[i][x]\n",
        "\n",
        "def check_diagonals(board):\n",
        "  diag1 = set([board[i][i],board[i+1][i+1],board[i+2][i+2]])\n",
        "  diag2 = set([board[i][i+2],board[i+1][i+1],board[i+2][i]])\n",
        "  if len(diag1) == 1 or len(diag1) == 2 or len(diag2) == 1 or len(diag2) == 2 and board[i+1][i+1] != 0:\n",
        "      return board[i+1][i+1]\n",
        "  \n",
        "  \n",
        "check_for_winner([[2, 2, 0],\n",
        "\t[2, 1, 0],\n",
        "\t[2, 1, 1]])\n",
        "    \n",
        "\n",
        "  \n"
      ],
      "execution_count": 0,
      "outputs": []
    },
    {
      "cell_type": "code",
      "metadata": {
        "id": "-heh2HbrUF6i",
        "colab_type": "code",
        "colab": {}
      },
      "source": [
        "def play_game():\n",
        "  if winner == O:\n",
        "    return 1\n",
        "  elif winner == X:\n",
        "    return 2\n",
        "    print(winner + \" won.\")\n",
        "  elif (0) not in board:\n",
        "    game_still_going = False\n",
        "    return True and 0\n",
        "    print(\" Tie. \")\n",
        "  else:\n",
        "    return -1\n",
        "    \n",
        "def check_if_game_over(display_board):\n",
        "  winner_test=check_for_winner(board)\n",
        "  if winner_test:\n",
        "    return winner_test\n",
        "\n",
        "def check_for_winner(display_board):\n",
        "  row_winner = check_rows(board)\n",
        "  column_winner = check_columns(board)\n",
        "  diagonal_winner = check_diagonals(board)\n",
        "  if row_winner:\n",
        "    winner = row_winner\n",
        "  elif column_winner:\n",
        "    winner = column_winner\n",
        "  elif diagonal_winner:\n",
        "    winner = diagonal_winner\n",
        "  else:\n",
        "    winner = None\n",
        "  return winner\n",
        "\n",
        "\n",
        "def check_for_tie(display_board):\n",
        "  if 0 not in board:\n",
        "    game_still_going = False\n",
        "    return True\n",
        "  else:\n",
        "    return False\n",
        "\n",
        "def check_row(m,n):\n",
        "  rows=list()\n",
        "  for i in range(len(n)):\n",
        "    row.append(n[m][i])\n",
        "  if n in range == 1 and n != 0:\n",
        "    return row\n",
        "\n",
        "def check_column(m,n):\n",
        "  columns=list()\n",
        "  for i in range(len(m)):\n",
        "    column.append(m[n][i])\n",
        "  if m in range == 1 and m != 0:\n",
        "    return column\n",
        "\n",
        "def check_diagonals(m,n):\n",
        "  diagonals= list()\n",
        "  for i in range(len(m,n)):\n",
        "    diagonals.append(m[i]n[i])\n",
        "    return diagonals\n",
        "\n",
        "check_for_winner([[2, 2, 0],\n",
        "\t[2, 1, 0],\n",
        "\t[2, 1, 1]])\n",
        "\n",
        "\n",
        "\n"
      ],
      "execution_count": 0,
      "outputs": []
    },
    {
      "cell_type": "code",
      "metadata": {
        "deletable": true,
        "editable": true,
        "id": "gBBLXud9Twz9",
        "colab_type": "code",
        "colab": {}
      },
      "source": [
        "# Test your solution here\n",
        "\n",
        "\n"
      ],
      "execution_count": 0,
      "outputs": []
    },
    {
      "cell_type": "markdown",
      "metadata": {
        "deletable": true,
        "editable": true,
        "id": "z52KOpFDTw0J",
        "colab_type": "text"
      },
      "source": [
        "*Exercise 3:* Write a function that takes 2 integers `n` and `m` as input and draws a `n` by `m` game board. For example the following is a 3x3 board:\n",
        "```\n",
        "   --- --- --- \n",
        "  |   |   |   | \n",
        "   --- --- ---  \n",
        "  |   |   |   | \n",
        "   --- --- ---  \n",
        "  |   |   |   | \n",
        "   --- --- --- \n",
        "   ```"
      ]
    },
    {
      "cell_type": "code",
      "metadata": {
        "deletable": true,
        "editable": true,
        "id": "w-FtVWNQTw0L",
        "colab_type": "code",
        "outputId": "50386f13-dff2-47be-a547-a71962b03ef7",
        "colab": {
          "base_uri": "https://localhost:8080/",
          "height": 124
        }
      },
      "source": [
        "# Write your solution here\n",
        "def draw():\n",
        "    board = \"\"\n",
        "\n",
        "    for i in range(5):\n",
        "        if i%2 == 0:\n",
        "            board += \"|    \" * 4\n",
        "        else:\n",
        "            board += \" --- \" * 3\n",
        "        board += \"\\n\"\n",
        "\n",
        "    print(board)\n",
        "\n",
        "draw()"
      ],
      "execution_count": 64,
      "outputs": [
        {
          "output_type": "stream",
          "text": [
            "|    |    |    |    \n",
            " ---  ---  --- \n",
            "|    |    |    |    \n",
            " ---  ---  --- \n",
            "|    |    |    |    \n",
            "\n"
          ],
          "name": "stdout"
        }
      ]
    },
    {
      "cell_type": "code",
      "metadata": {
        "deletable": true,
        "editable": true,
        "id": "MYl-WBACTw0c",
        "colab_type": "code",
        "colab": {}
      },
      "source": [
        "# Test your solution here"
      ],
      "execution_count": 0,
      "outputs": []
    },
    {
      "cell_type": "markdown",
      "metadata": {
        "deletable": true,
        "editable": true,
        "id": "edkt04buTw0n",
        "colab_type": "text"
      },
      "source": [
        "*Exercise 4:* Modify exercise 3, so that it takes a matrix of the form from exercise 2 and draws a tic-tac-tie board with \"X\"s and \"O\"s.  "
      ]
    },
    {
      "cell_type": "code",
      "metadata": {
        "deletable": true,
        "editable": true,
        "id": "e06nACbTTw0q",
        "colab_type": "code",
        "colab": {}
      },
      "source": [
        "# Write you solution here"
      ],
      "execution_count": 0,
      "outputs": []
    },
    {
      "cell_type": "code",
      "metadata": {
        "deletable": true,
        "editable": true,
        "id": "f4BLooZjTw0x",
        "colab_type": "code",
        "colab": {}
      },
      "source": [
        "# Test your solution here"
      ],
      "execution_count": 0,
      "outputs": []
    },
    {
      "cell_type": "markdown",
      "metadata": {
        "deletable": true,
        "editable": true,
        "id": "JMJTyCxZTw0-",
        "colab_type": "text"
      },
      "source": [
        "*Exercise 5:* Write a function that takes a game board, player number, and `(x,y)` coordinates and places \"X\" or \"O\" in the correct location of the game board. Make sure that you only allow filling previously empty locations. Return `True` or `False` to indicate successful placement of \"X\" or \"O\"."
      ]
    },
    {
      "cell_type": "code",
      "metadata": {
        "deletable": true,
        "editable": true,
        "id": "1EToStZeTw1A",
        "colab_type": "code",
        "colab": {}
      },
      "source": [
        "# Write you solution here\n",
        "def Makin_Moves(player):\n",
        "  print(player + \"'s turn.\")\n",
        "  position = input(\"Choose a position\")\n",
        "  valid = False\n",
        "  while not valid:\n",
        "\n",
        "    \n",
        "    while position not in range(size):\n",
        "      position = input(\"Choose a position\")\n",
        "    position = int(position) - 1\n",
        "    if board[position] == empty:\n",
        "      valid = True\n",
        "    else:\n",
        "      print(\"You can't go there. Go again.\")\n",
        "\n",
        "board[position] = player"
      ],
      "execution_count": 0,
      "outputs": []
    },
    {
      "cell_type": "code",
      "metadata": {
        "deletable": true,
        "editable": true,
        "id": "vQG7ht7GTw1J",
        "colab_type": "code",
        "colab": {}
      },
      "source": [
        "# Test your solution here"
      ],
      "execution_count": 0,
      "outputs": []
    },
    {
      "cell_type": "markdown",
      "metadata": {
        "deletable": true,
        "editable": true,
        "id": "C6Nojr6lTw1R",
        "colab_type": "text"
      },
      "source": [
        "*Exercise 6:* Modify Exercise 4 to show column and row labels so that players can specify location using \"A2\" or \"C1\"."
      ]
    },
    {
      "cell_type": "code",
      "metadata": {
        "id": "LAizN40PTw1U",
        "colab_type": "code",
        "colab": {}
      },
      "source": [
        "# Write you solution here"
      ],
      "execution_count": 0,
      "outputs": []
    },
    {
      "cell_type": "code",
      "metadata": {
        "deletable": true,
        "editable": true,
        "id": "za3dsMOtTw1c",
        "colab_type": "code",
        "colab": {}
      },
      "source": [
        "# Test your solution here"
      ],
      "execution_count": 0,
      "outputs": []
    },
    {
      "cell_type": "markdown",
      "metadata": {
        "deletable": true,
        "editable": true,
        "id": "LvPLTbM9Tw1k",
        "colab_type": "text"
      },
      "source": [
        "*Exercise 7:* Write a function that takes a board, player number, and location specified as in exercise 6 and then calls exercise 5 to correctly modify the board.  "
      ]
    },
    {
      "cell_type": "code",
      "metadata": {
        "deletable": true,
        "editable": true,
        "id": "mzX_Tz3pTw1m",
        "colab_type": "code",
        "colab": {}
      },
      "source": [
        "# Write you solution here"
      ],
      "execution_count": 0,
      "outputs": []
    },
    {
      "cell_type": "code",
      "metadata": {
        "deletable": true,
        "editable": true,
        "id": "6TFVzd5BTw1u",
        "colab_type": "code",
        "colab": {}
      },
      "source": [
        "# Test your solution here"
      ],
      "execution_count": 0,
      "outputs": []
    },
    {
      "cell_type": "markdown",
      "metadata": {
        "deletable": true,
        "editable": true,
        "id": "wbwvZIo0Tw11",
        "colab_type": "text"
      },
      "source": [
        "*Exercise 8:* Write a function is called with a board and player number, takes input from the player using python's `input`, and modifies the board using your function from exercise 7. Note that you should keep asking for input until you have gotten a valid input that results in a valid move."
      ]
    },
    {
      "cell_type": "code",
      "metadata": {
        "deletable": true,
        "editable": true,
        "id": "TmsLe7NITw15",
        "colab_type": "code",
        "colab": {}
      },
      "source": [
        "# Write you solution here"
      ],
      "execution_count": 0,
      "outputs": []
    },
    {
      "cell_type": "code",
      "metadata": {
        "deletable": true,
        "editable": true,
        "id": "5dSDGSQTTw1_",
        "colab_type": "code",
        "colab": {}
      },
      "source": [
        "# Test your solution here"
      ],
      "execution_count": 0,
      "outputs": []
    },
    {
      "cell_type": "markdown",
      "metadata": {
        "deletable": true,
        "editable": true,
        "id": "k9knnmqbTw2F",
        "colab_type": "text"
      },
      "source": [
        "*Exercise 9:* Use all of the previous exercises to implement a full tic-tac-toe game, where an appropriate board is drawn, 2 players are repeatedly asked for a location coordinates of where they wish to place a mark, and the game status is checked until a player wins or a draw occurs."
      ]
    },
    {
      "cell_type": "code",
      "metadata": {
        "deletable": true,
        "editable": true,
        "id": "a4ET22WiTw2K",
        "colab_type": "code",
        "colab": {}
      },
      "source": [
        "# Write you solution here\n"
      ],
      "execution_count": 0,
      "outputs": []
    },
    {
      "cell_type": "code",
      "metadata": {
        "deletable": true,
        "editable": true,
        "id": "EMwF9dawTw2R",
        "colab_type": "code",
        "colab": {}
      },
      "source": [
        "# Test your solution here"
      ],
      "execution_count": 0,
      "outputs": []
    },
    {
      "cell_type": "markdown",
      "metadata": {
        "deletable": true,
        "editable": true,
        "id": "14eT7kstTw2Y",
        "colab_type": "text"
      },
      "source": [
        "*Exercise 10:* Test that your game works for 5x5 Tic Tac Toe.  "
      ]
    },
    {
      "cell_type": "code",
      "metadata": {
        "deletable": true,
        "editable": true,
        "id": "ah5lCQ8CTw2c",
        "colab_type": "code",
        "colab": {}
      },
      "source": [
        "# Test your solution here"
      ],
      "execution_count": 0,
      "outputs": []
    },
    {
      "cell_type": "markdown",
      "metadata": {
        "deletable": true,
        "editable": true,
        "id": "3RXICv3KTw2i",
        "colab_type": "text"
      },
      "source": [
        "*Exercise 11: (Extra Credit)* Develop a version of the game where one player is the computer. Note that you don't need to do an extensive seach for the best move. You can have the computer simply protect against loosing and otherwise try to win with straight or diagonal patterns."
      ]
    },
    {
      "cell_type": "code",
      "metadata": {
        "deletable": true,
        "editable": true,
        "id": "7CAVoSR8Tw2j",
        "colab_type": "code",
        "colab": {}
      },
      "source": [
        "# Write you solution here"
      ],
      "execution_count": 0,
      "outputs": []
    },
    {
      "cell_type": "code",
      "metadata": {
        "deletable": true,
        "editable": true,
        "id": "8v1GNLFDTw2o",
        "colab_type": "code",
        "colab": {}
      },
      "source": [
        "# Test your solution here"
      ],
      "execution_count": 0,
      "outputs": []
    }
  ]
}